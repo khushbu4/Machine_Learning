{
  "nbformat": 4,
  "nbformat_minor": 0,
  "metadata": {
    "colab": {
      "provenance": []
    },
    "kernelspec": {
      "name": "python3",
      "display_name": "Python 3"
    },
    "language_info": {
      "name": "python"
    }
  },
  "cells": [
    {
      "cell_type": "code",
      "execution_count": null,
      "metadata": {
        "id": "vXNtCfIcdfoY"
      },
      "outputs": [],
      "source": [
        "from sklearn.metrics import confusion_matrix\n",
        "from sklearn.metrics import classification_report\n",
        "x=[1,0,1,0,0,0,1,1]\n",
        "y=[1,1,1,0,0,1,0,0]\n",
        "matrix = confusion_matrix(x,y)\n",
        "cl_report = classification_report(x,y)\n",
        "\n"
      ]
    },
    {
      "cell_type": "code",
      "source": [
        "print(\"confusion_matrix\")\n",
        "print(matrix)"
      ],
      "metadata": {
        "colab": {
          "base_uri": "https://localhost:8080/"
        },
        "id": "RHGs8CM3eU7p",
        "outputId": "9ef7e904-0563-432c-9b06-cac8928f6d6c"
      },
      "execution_count": null,
      "outputs": [
        {
          "output_type": "stream",
          "name": "stdout",
          "text": [
            "confusion_matrix\n",
            "[[2 2]\n",
            " [2 2]]\n"
          ]
        }
      ]
    },
    {
      "cell_type": "code",
      "source": [
        "print(cl_report)"
      ],
      "metadata": {
        "id": "uCU2RfAMeeSH",
        "outputId": "8ef482ea-b534-406d-af6a-ae3c67737b3d",
        "colab": {
          "base_uri": "https://localhost:8080/"
        }
      },
      "execution_count": null,
      "outputs": [
        {
          "output_type": "stream",
          "name": "stdout",
          "text": [
            "              precision    recall  f1-score   support\n",
            "\n",
            "           0       0.50      0.50      0.50         4\n",
            "           1       0.50      0.50      0.50         4\n",
            "\n",
            "    accuracy                           0.50         8\n",
            "   macro avg       0.50      0.50      0.50         8\n",
            "weighted avg       0.50      0.50      0.50         8\n",
            "\n"
          ]
        }
      ]
    }
  ]
}